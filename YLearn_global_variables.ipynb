{
  "nbformat": 4,
  "nbformat_minor": 0,
  "metadata": {
    "colab": {
      "private_outputs": true,
      "provenance": [],
      "authorship_tag": "ABX9TyMECRNKBRxa3Hk1AgOWvqHo",
      "include_colab_link": true
    },
    "kernelspec": {
      "name": "python3",
      "display_name": "Python 3"
    },
    "language_info": {
      "name": "python"
    }
  },
  "cells": [
    {
      "cell_type": "markdown",
      "metadata": {
        "id": "view-in-github",
        "colab_type": "text"
      },
      "source": [
        "<a href=\"https://colab.research.google.com/github/ctrivino1/YLearn/blob/main/YLearn_global_variables.ipynb\" target=\"_parent\"><img src=\"https://colab.research.google.com/assets/colab-badge.svg\" alt=\"Open In Colab\"/></a>"
      ]
    },
    {
      "cell_type": "code",
      "execution_count": null,
      "metadata": {
        "id": "aYEx77yGAkyw"
      },
      "outputs": [],
      "source": [
        "!pip install git+https://github.com/ctrivino1/YLearn.git"
      ]
    },
    {
      "cell_type": "code",
      "source": [
        "# data\n",
        "from sklearn.datasets import fetch_california_housing\n",
        "from sklearn.ensemble import RandomForestRegressor, RandomForestClassifier\n",
        "import pandas as pd\n",
        "from ylearn.estimator_model.double_ml import DoubleML\n",
        "from xgboost import XGBRegressor\n",
        "import seaborn as sns\n",
        "import matplotlib.pyplot as plt\n",
        "import numpy as np\n",
        "\n",
        "housing = fetch_california_housing(as_frame=True)\n",
        "data = housing.frame\n",
        "outcome = housing.target_names[0]\n",
        "data[outcome] = housing.target\n",
        "data.head()"
      ],
      "metadata": {
        "id": "AKVhQduiAp2N"
      },
      "execution_count": null,
      "outputs": []
    },
    {
      "cell_type": "code",
      "source": [
        "outcome"
      ],
      "metadata": {
        "id": "bsjfOXJKJhCC"
      },
      "execution_count": null,
      "outputs": []
    },
    {
      "cell_type": "code",
      "source": [
        "from ylearn.estimator_model import double_ml\n",
        "from ylearn import Why\n",
        "# identify\n",
        "why = Why()\n",
        "r=why.identify(data, outcome,treatment_count_limit=2)\n",
        "\n",
        "print('identified treatment:',r[0])\n",
        "print('identified adjustment:',r[1])\n",
        "print('identified covariate:',r[2])\n",
        "print('identified instrument:',r[3])"
      ],
      "metadata": {
        "id": "Gf4LMwuPB8f8"
      },
      "execution_count": null,
      "outputs": []
    },
    {
      "cell_type": "code",
      "source": [
        "# Assuming 'your_outcome_column' is the outcome variable name\n",
        "x_model = XGBRegressor()  # You can choose a different model if needed\n",
        "y_model = XGBRegressor()  # You can choose a different model if needed\n",
        "\n",
        "double_ml_model = double_ml.DoubleML(\n",
        "    x_model=x_model,\n",
        "    y_model=y_model,\n",
        "    cf_fold=10,  # You can adjust the cross-fitting folds\n",
        "    random_state=2022,\n",
        ")\n",
        "\n",
        "train_size = int(0.8 * len(data))\n",
        "train_data = data[:train_size]\n",
        "val_data = data[train_size:]\n",
        "# Fit the DoubleML model (this is just an example, you need to specify the model and instruments)\n",
        "double_ml_model.fit(data,outcome,treatment=r[0],covariate=r[2])\n",
        "\n",
        "estimated_ate = double_ml_model.estimate(val_data,quantity='ATE')\n",
        "#print(f\"Treatment{double_ml_model.treatment}\")\n",
        "#print(f\"Treatment ATE: {estimated_ate}\")\n",
        "y_intercept = double_ml_model.yx_model.intercept_\n",
        "#print(f\"Y Intercept: {y_intercept}\")\n",
        "coefficents = double_ml_model.yx_model.coef_\n",
        "#print(f\"coefficients: {coefficents}\")"
      ],
      "metadata": {
        "id": "17Q1MVnvGbuk"
      },
      "execution_count": null,
      "outputs": []
    },
    {
      "cell_type": "code",
      "source": [
        "double_ml_model.yx_model.coef_"
      ],
      "metadata": {
        "id": "ULiB0P2xz3rS"
      },
      "execution_count": null,
      "outputs": []
    },
    {
      "cell_type": "code",
      "source": [
        "# convert to array just extracts the covariate data and turns it into a numpy array\n",
        "print(double_ml.global_v_convert2array)\n",
        "print(data[['AveRooms', 'AveBedrms', 'Population', 'AveOccup', 'Latitude', 'Longitude']])"
      ],
      "metadata": {
        "id": "bgFBBkFLJDbZ"
      },
      "execution_count": null,
      "outputs": []
    },
    {
      "cell_type": "code",
      "source": [
        "# both wv and v will be equal unless a variabes w is introduced, but I haven't ran into a situation like this yet\n",
        "print(double_ml.global_wv_data )\n",
        "print(\"space\")\n",
        "print(double_ml.global_v_convert2array)\n",
        "\n",
        "print(\"\")\n",
        "are_equal = np.array_equal(double_ml.global_wv_data, double_ml.global_v_convert2array)\n",
        "print(\"Are double_ml.global_wv_data and double_ml.global_v_convert2array equal?\", are_equal)"
      ],
      "metadata": {
        "id": "IP0fqaxCdxBZ"
      },
      "execution_count": null,
      "outputs": []
    },
    {
      "cell_type": "code",
      "source": [
        "print(double_ml.cross_fit_y_target) # med house val"
      ],
      "metadata": {
        "id": "-DmsHzoY9zeW"
      },
      "execution_count": null,
      "outputs": []
    },
    {
      "cell_type": "code",
      "source": [
        "# x.shape:  (20640, 2)\n",
        "#y.shape:  (20640, 1)\n",
        "x_hat = double_ml.global_x_hat_dict [\"paras\"][0].reshape((20640, 2))\n",
        "print(pd.DataFrame(x_hat))\n",
        "print(pd.DataFrame(double_ml.global_x_convert2array))"
      ],
      "metadata": {
        "id": "BgM2TUWhaADL"
      },
      "execution_count": null,
      "outputs": []
    },
    {
      "cell_type": "code",
      "source": [
        "# looking at how x_prime is calculated"
      ],
      "metadata": {
        "id": "o3lJovizsyZr"
      },
      "execution_count": null,
      "outputs": []
    },
    {
      "cell_type": "code",
      "source": [
        "def nd_kron(x, y):\n",
        "    assert x.shape[0] == y.shape[0]\n",
        "    fn = np.vectorize(np.kron, signature=\"(n),(m)->(k)\")\n",
        "    kron_prod = fn(x, y)\n",
        "\n",
        "    return kron_prod"
      ],
      "metadata": {
        "id": "JGVAT9f_s3yg"
      },
      "execution_count": null,
      "outputs": []
    },
    {
      "cell_type": "code",
      "source": [
        "x_diff = double_ml.global_x_convert2array - x_hat\n",
        "v = np.hstack([np.ones((double_ml.global_v_convert2array .shape[0], 1)), double_ml.global_v_convert2array ])\n",
        "print(v[0])\n",
        "x_diff[0]"
      ],
      "metadata": {
        "id": "woqsDkrBhdnD"
      },
      "execution_count": null,
      "outputs": []
    },
    {
      "cell_type": "code",
      "source": [
        "assert (20640, 2)[0] == (20640, 1)[0]\n",
        "fn = np.vectorize(np.kron, signature=\"(n),(m)->(k)\")\n",
        "print(fn)\n",
        "kron_prod = fn(x_diff[0], v[0])\n",
        "print(kron_prod)\n"
      ],
      "metadata": {
        "id": "qsZcoK6moxOJ"
      },
      "execution_count": null,
      "outputs": []
    },
    {
      "cell_type": "code",
      "source": [
        "F = double_ml_model.yx_model.coef_\n",
        "v = double_ml.global_v_convert2array\n",
        "result = np.dot(F, v.T)\n",
        "result"
      ],
      "metadata": {
        "id": "h5eRGnTEv6uj"
      },
      "execution_count": null,
      "outputs": []
    },
    {
      "cell_type": "code",
      "source": [],
      "metadata": {
        "id": "7kTqIA-_9Vyb"
      },
      "execution_count": null,
      "outputs": []
    }
  ]
}