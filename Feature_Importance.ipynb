{
  "nbformat": 4,
  "nbformat_minor": 0,
  "metadata": {
    "colab": {
      "private_outputs": true,
      "provenance": [],
      "authorship_tag": "ABX9TyMrv/m0PVrsCf/BAup7A8r3",
      "include_colab_link": true
    },
    "kernelspec": {
      "name": "python3",
      "display_name": "Python 3"
    },
    "language_info": {
      "name": "python"
    }
  },
  "cells": [
    {
      "cell_type": "markdown",
      "metadata": {
        "id": "view-in-github",
        "colab_type": "text"
      },
      "source": [
        "<a href=\"https://colab.research.google.com/github/ctrivino1/YLearn/blob/main/Feature_Importance.ipynb\" target=\"_parent\"><img src=\"https://colab.research.google.com/assets/colab-badge.svg\" alt=\"Open In Colab\"/></a>"
      ]
    },
    {
      "cell_type": "code",
      "execution_count": null,
      "metadata": {
        "id": "Us6T2wDkxgWV"
      },
      "outputs": [],
      "source": [
        "# Import necessary libraries\n",
        "import numpy as np\n",
        "import pandas as pd\n",
        "from sklearn.datasets import fetch_california_housing\n",
        "from sklearn.model_selection import train_test_split\n",
        "from xgboost import XGBRegressor\n",
        "import matplotlib.pyplot as plt\n",
        "\n",
        "# Load California housing dataset\n",
        "california_housing = fetch_california_housing()\n",
        "X = pd.DataFrame(california_housing.data, columns=california_housing.feature_names)\n",
        "y = california_housing.target\n",
        "\n",
        "# Split the dataset\n",
        "X_train, X_test, y_train, y_test = train_test_split(X, y, test_size=0.25, random_state=42)\n",
        "\n",
        "# Fit XGBoost Regressor\n",
        "xgb = XGBRegressor(n_estimators=100)\n",
        "xgb.fit(X_train, y_train)\n",
        "\n",
        "# Get feature importances\n",
        "feature_importances = xgb.feature_importances_\n",
        "\n",
        "# Visualize importances\n",
        "sorted_idx = feature_importances.argsort()\n",
        "plt.barh(X.columns[sorted_idx], feature_importances[sorted_idx])\n",
        "plt.xlabel(\"XGBoost Feature Importance\")\n",
        "plt.show()\n"
      ]
    },
    {
      "cell_type": "code",
      "source": [
        "import seaborn as sns\n",
        "import matplotlib.pyplot as plt\n",
        "\n",
        "def correlation_heatmap(data):\n",
        "    correlations = data.corr()\n",
        "\n",
        "    fig, ax = plt.subplots(figsize=(10, 10))\n",
        "    sns.heatmap(correlations, vmax=1.0, center=0, fmt='.2f', cmap=\"YlGnBu\",\n",
        "                square=True, linewidths=.5, annot=True, cbar_kws={\"shrink\": .70}\n",
        "                )\n",
        "    plt.show()\n",
        "\n",
        "# Assuming X_train is your training data\n",
        "correlation_heatmap(X_train)\n"
      ],
      "metadata": {
        "id": "Qxs903yO2EA_"
      },
      "execution_count": null,
      "outputs": []
    },
    {
      "cell_type": "code",
      "source": [
        "# Import necessary libraries\n",
        "import numpy as np\n",
        "import pandas as pd\n",
        "from sklearn.datasets import fetch_california_housing\n",
        "from sklearn.model_selection import train_test_split\n",
        "from xgboost import XGBRegressor\n",
        "from sklearn.inspection import permutation_importance\n",
        "import matplotlib.pyplot as plt\n",
        "\n",
        "# Load California housing dataset\n",
        "california_housing = fetch_california_housing()\n",
        "X = pd.DataFrame(california_housing.data, columns=california_housing.feature_names)\n",
        "y = california_housing.target\n",
        "\n",
        "# Split the dataset\n",
        "X_train, X_test, y_train, y_test = train_test_split(X, y, test_size=0.25, random_state=42)\n",
        "\n",
        "# Fit XGBoost Regressor\n",
        "xgb = XGBRegressor(n_estimators=100)\n",
        "xgb.fit(X_train, y_train)\n",
        "\n",
        "# Perform permutation feature importance\n",
        "perm_importance = permutation_importance(xgb, X_test, y_test, n_repeats=100, random_state=42)\n",
        "\n",
        "# Visualize importances\n",
        "sorted_idx = perm_importance.importances_mean.argsort()\n",
        "plt.barh(X.columns[sorted_idx], perm_importance.importances_mean[sorted_idx])\n",
        "plt.xlabel(\"Permutation Importance\")\n",
        "plt.show()\n"
      ],
      "metadata": {
        "id": "pDEQtxCXx0xo"
      },
      "execution_count": null,
      "outputs": []
    },
    {
      "cell_type": "code",
      "source": [
        "!pip install shap"
      ],
      "metadata": {
        "id": "svEv4m-Xyr_P"
      },
      "execution_count": null,
      "outputs": []
    },
    {
      "cell_type": "code",
      "source": [
        "# Import necessary libraries\n",
        "import numpy as np\n",
        "import pandas as pd\n",
        "from sklearn.datasets import fetch_california_housing\n",
        "from sklearn.model_selection import train_test_split\n",
        "from xgboost import XGBRegressor\n",
        "import shap\n",
        "\n",
        "# Load California housing dataset\n",
        "california_housing = fetch_california_housing()\n",
        "X = pd.DataFrame(california_housing.data, columns=california_housing.feature_names)\n",
        "y = california_housing.target\n",
        "\n",
        "# Split the dataset\n",
        "X_train, X_test, y_train, y_test = train_test_split(X, y, test_size=0.25, random_state=42)\n",
        "\n",
        "# Fit XGBoost Regressor\n",
        "xgb = XGBRegressor(n_estimators=100)\n",
        "xgb.fit(X_train, y_train)\n",
        "\n",
        "# Create a SHAP explainer\n",
        "explainer = shap.TreeExplainer(xgb)\n",
        "\n",
        "# Calculate SHAP values\n",
        "shap_values = explainer.shap_values(X_test)\n",
        "\n",
        "# Summary plot of SHAP feature importances\n",
        "shap.summary_plot(shap_values, X_test, plot_type=\"bar\")\n"
      ],
      "metadata": {
        "id": "f3wYfopWyfDI"
      },
      "execution_count": null,
      "outputs": []
    },
    {
      "cell_type": "code",
      "source": [],
      "metadata": {
        "id": "mYEQdS-4z4S8"
      },
      "execution_count": null,
      "outputs": []
    }
  ]
}