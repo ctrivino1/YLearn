{
  "nbformat": 4,
  "nbformat_minor": 0,
  "metadata": {
    "colab": {
      "private_outputs": true,
      "provenance": [],
      "authorship_tag": "ABX9TyNY1KSHS1HVMLY3d28rdNBX",
      "include_colab_link": true
    },
    "kernelspec": {
      "name": "python3",
      "display_name": "Python 3"
    },
    "language_info": {
      "name": "python"
    }
  },
  "cells": [
    {
      "cell_type": "markdown",
      "metadata": {
        "id": "view-in-github",
        "colab_type": "text"
      },
      "source": [
        "<a href=\"https://colab.research.google.com/github/ctrivino1/YLearn/blob/main/Frisch_Waugh_Theorem.ipynb\" target=\"_parent\"><img src=\"https://colab.research.google.com/assets/colab-badge.svg\" alt=\"Open In Colab\"/></a>"
      ]
    },
    {
      "cell_type": "code",
      "execution_count": null,
      "metadata": {
        "id": "a4RfCBN8mhxJ"
      },
      "outputs": [],
      "source": [
        "# data\n",
        "from sklearn.datasets import fetch_california_housing\n",
        "from sklearn.ensemble import RandomForestRegressor, RandomForestClassifier\n",
        "import pandas as pd\n",
        "#from ylearn.estimator_model.double_ml import DoubleML\n",
        "from xgboost import XGBRegressor\n",
        "import seaborn as sns\n",
        "import matplotlib.pyplot as plt\n",
        "import numpy as np\n",
        "from sklearn.model_selection import cross_val_predict\n",
        "\n",
        "housing = fetch_california_housing(as_frame=True)\n",
        "data = housing.frame\n",
        "outcome = housing.target_names[0]\n",
        "data[outcome] = housing.target\n",
        "data.head()"
      ]
    },
    {
      "cell_type": "code",
      "source": [
        "import seaborn as sns\n",
        "sns.regplot(x=\"MedInc\", y=\"MedHouseVal\", data=data, ci=False, line_kws={'color':'r', 'label':'linear fit'})\n",
        "plt.legend()\n",
        "plt.title(f\"Sales and coupon usage\");"
      ],
      "metadata": {
        "id": "trzxhYGtmkDj"
      },
      "execution_count": null,
      "outputs": []
    },
    {
      "cell_type": "markdown",
      "source": [
        "Normal Regression model"
      ],
      "metadata": {
        "id": "e5ZlTr4SqKpF"
      }
    },
    {
      "cell_type": "code",
      "source": [
        "import statsmodels.formula.api as smf\n",
        "smf.ols('MedHouseVal ~ MedInc\t+ HouseAge +\tAveRooms +\tAveBedrms +\tPopulation +\tAveOccup +\tLatitude +\tLongitude\t', data).fit().summary().tables[1]"
      ],
      "metadata": {
        "id": "THqT4k2PpvgX"
      },
      "execution_count": null,
      "outputs": []
    },
    {
      "cell_type": "markdown",
      "source": [
        "Now lets prove the Frisch-Waugh-Lowell theorem actually holds"
      ],
      "metadata": {
        "id": "wTJ4OynoqPUr"
      }
    },
    {
      "cell_type": "code",
      "source": [
        "# Create a model that predicts medhouseval based on medincs residuals\n",
        "\n",
        "data['MedInc_Residuals'] = smf.ols('MedInc ~ HouseAge +\tAveRooms +\tAveBedrms +\tPopulation +\tAveOccup +\tLatitude +\tLongitude', data).fit().resid\n",
        "\n",
        "smf.ols('MedHouseVal ~ MedInc_Residuals - 1', data).fit().summary().tables[1]"
      ],
      "metadata": {
        "id": "AP-fr1IRqN_T"
      },
      "execution_count": null,
      "outputs": []
    },
    {
      "cell_type": "code",
      "source": [
        "# Create a model that predicts medhouseval based on medincs residuals\n",
        "\n",
        "data['HouseAge_tilde'] = smf.ols('HouseAge ~  MedInc +\tAveRooms +\tAveBedrms +\tPopulation +\tAveOccup +\tLatitude +\tLongitude', data).fit().resid\n",
        "\n",
        "smf.ols('MedHouseVal ~ HouseAge_tilde -1', data).fit().summary().tables[1]"
      ],
      "metadata": {
        "id": "zA9a18sZupyQ"
      },
      "execution_count": null,
      "outputs": []
    },
    {
      "cell_type": "code",
      "source": [
        "# create primary model residuals\n",
        "data['MedHouseVal_Residuals'] = smf.ols('MedHouseVal ~ AveRooms +\tAveBedrms +\tPopulation +\tAveOccup +\tLatitude +\tLongitude', data).fit().resid\n",
        "# create model that uses the residuals from the auxillary residuals to predict the primary models resdiduals\n",
        "smf.ols('MedHouseVal_Residuals ~ MedInc_Residuals  + 1', data).fit().summary().tables[1]"
      ],
      "metadata": {
        "id": "GMHB0dAsqF9e"
      },
      "execution_count": null,
      "outputs": []
    },
    {
      "cell_type": "code",
      "source": [
        "\n",
        "# Define the outcome variable (y) and treatment variable (T)\n",
        "y = 'MedHouseVal'\n",
        "x = 'MedInc'\n",
        "v = data.columns.difference([y, x])\n",
        "\n",
        "# Assume you have defined your ML models M_y and M_T\n",
        "M_y = XGBRegressor()\n",
        "M_x = XGBRegressor()\n",
        "\n",
        "# Predict residuals using cross-validated predictions\n",
        "data['y_residual'] = data[y] - cross_val_predict(M_y, data[v], data[y], cv=3)\n",
        "data['x_residual'] = data[x] - cross_val_predict(M_x, data[v], data[x], cv=3)\n",
        "\n",
        "# Fit the final ATE model using residuals\n",
        "ATE_model = smf.ols(formula='y_residual ~ 1 + x_residual', data=data).fit()\n",
        "\n",
        "# Display regression results\n",
        "print(ATE_model.summary())\n"
      ],
      "metadata": {
        "id": "ugfzq2G4Y1hW"
      },
      "execution_count": null,
      "outputs": []
    },
    {
      "cell_type": "code",
      "source": [
        "import matplotlib.pyplot as plt\n",
        "import seaborn as sns\n",
        "\n",
        "# Visualize the treatment effect\n",
        "sns.scatterplot(x=data[x], y=ATE_model.fittedvalues, color='blue', alpha=0.5)\n",
        "plt.xlabel('MedInc (Treatment Variable)')\n",
        "plt.ylabel('Predicted ATE')\n",
        "plt.title('Scatter Plot of Predicted ATE against Treatment Variable')\n",
        "plt.show()\n"
      ],
      "metadata": {
        "id": "jif0aKBRb-lq"
      },
      "execution_count": null,
      "outputs": []
    },
    {
      "cell_type": "code",
      "source": [
        "\n",
        "data[\"MedInc_hat\"] =  smf.ols('MedInc ~ HouseAge +\tAveRooms +\tAveBedrms +\tPopulation +\tAveOccup +\tLatitude +\tLongitude', data).fit().predict()\n",
        "\n",
        "ax = sns.regplot(x=\"MedHouseVal\", y=\"MedInc\", data=data, ci=False, line_kws={'color':'r', 'label':'linear fit'})\n",
        "ax.vlines(data[\"MedHouseVal\"],\n",
        "   np.minimum(data[\"MedInc\"], data[\"MedInc_hat\"]),\n",
        "   np.maximum(data[\"MedInc\"], data[\"MedInc_hat\"]),\n",
        "   linestyle='--', color='k', alpha=0.5, linewidth=1, label=\"residuals\")\n",
        "plt.legend()\n",
        "plt.title(f\"MedInc/MedHouseVal residual model\");"
      ],
      "metadata": {
        "id": "iW9gN32ErHZp"
      },
      "execution_count": null,
      "outputs": []
    },
    {
      "cell_type": "code",
      "source": [
        "sns.regplot(x=\"MedInc_Residuals\", y=\"MedHouseVal_Residuals\", data=data, ci=False, line_kws={'color':'r', 'label':'linear fit'})\n",
        "plt.legend()\n",
        "plt.title(f\"Residual MedHouseVale and residual MedInc\");"
      ],
      "metadata": {
        "id": "mFXfFYGpr6g3"
      },
      "execution_count": null,
      "outputs": []
    },
    {
      "cell_type": "code",
      "source": [
        "data['MedHouseVal_Residuals_scaled'] = data['MedHouseVal_Residuals'] + np.mean(data['MedHouseVal'])\n",
        "data['MedInc_Residuals_scaled'] = data['MedInc_Residuals'] + np.mean(data['MedInc'])"
      ],
      "metadata": {
        "id": "IFJry0MdsJFA"
      },
      "execution_count": null,
      "outputs": []
    },
    {
      "cell_type": "code",
      "source": [
        "sns.regplot(x=\"MedInc_Residuals_scaled\", y=\"MedHouseVal_Residuals_scaled\", data=data, ci=False, line_kws={'color':'r', 'label':'linear fit'})\n",
        "plt.legend()\n",
        "plt.title(f\"Residual sales scaled and residual coupons scaled\");"
      ],
      "metadata": {
        "id": "6YltfWCctGGr"
      },
      "execution_count": null,
      "outputs": []
    },
    {
      "cell_type": "code",
      "source": [],
      "metadata": {
        "id": "pjOPmNT4wmYa"
      },
      "execution_count": null,
      "outputs": []
    }
  ]
}